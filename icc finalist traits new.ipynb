{
 "cells": [
  {
   "cell_type": "markdown",
   "id": "f1137603-9b97-415e-a9c5-cf03fce52469",
   "metadata": {},
   "source": [
    "# import libraries"
   ]
  },
  {
   "cell_type": "code",
   "execution_count": 4,
   "id": "c530cdd7-b557-413a-afd4-ff9c998d6009",
   "metadata": {},
   "outputs": [],
   "source": [
    "import numpy as np\n",
    "import pandas as pd\n",
    "import matplotlib.pyplot as plt\n",
    "import seaborn as sns"
   ]
  },
  {
   "cell_type": "markdown",
   "id": "40d9e061-32fa-49e4-a6e3-5ae030733ff5",
   "metadata": {},
   "source": [
    "# import Dataset"
   ]
  },
  {
   "cell_type": "code",
   "execution_count": 51,
   "id": "3744234f-79e9-4523-b679-efac37da6366",
   "metadata": {},
   "outputs": [
    {
     "data": {
      "text/html": [
       "<div>\n",
       "<style scoped>\n",
       "    .dataframe tbody tr th:only-of-type {\n",
       "        vertical-align: middle;\n",
       "    }\n",
       "\n",
       "    .dataframe tbody tr th {\n",
       "        vertical-align: top;\n",
       "    }\n",
       "\n",
       "    .dataframe thead th {\n",
       "        text-align: right;\n",
       "    }\n",
       "</style>\n",
       "<table border=\"1\" class=\"dataframe\">\n",
       "  <thead>\n",
       "    <tr style=\"text-align: right;\">\n",
       "      <th></th>\n",
       "      <th>match_id</th>\n",
       "      <th>season</th>\n",
       "      <th>start_date</th>\n",
       "      <th>venue</th>\n",
       "      <th>innings</th>\n",
       "      <th>ball</th>\n",
       "      <th>batting_team</th>\n",
       "      <th>bowling_team</th>\n",
       "      <th>striker</th>\n",
       "      <th>non_striker</th>\n",
       "      <th>...</th>\n",
       "      <th>extras</th>\n",
       "      <th>wides</th>\n",
       "      <th>noballs</th>\n",
       "      <th>byes</th>\n",
       "      <th>legbyes</th>\n",
       "      <th>penalty</th>\n",
       "      <th>wicket_type</th>\n",
       "      <th>player_dismissed</th>\n",
       "      <th>other_wicket_type</th>\n",
       "      <th>other_player_dismissed</th>\n",
       "    </tr>\n",
       "  </thead>\n",
       "  <tbody>\n",
       "    <tr>\n",
       "      <th>0</th>\n",
       "      <td>433558</td>\n",
       "      <td>2010/11</td>\n",
       "      <td>2011-02-19</td>\n",
       "      <td>Shere Bangla National Stadium</td>\n",
       "      <td>1</td>\n",
       "      <td>0.1</td>\n",
       "      <td>India</td>\n",
       "      <td>Bangladesh</td>\n",
       "      <td>V Sehwag</td>\n",
       "      <td>SR Tendulkar</td>\n",
       "      <td>...</td>\n",
       "      <td>0</td>\n",
       "      <td>NaN</td>\n",
       "      <td>NaN</td>\n",
       "      <td>NaN</td>\n",
       "      <td>NaN</td>\n",
       "      <td>NaN</td>\n",
       "      <td>NaN</td>\n",
       "      <td>NaN</td>\n",
       "      <td>NaN</td>\n",
       "      <td>NaN</td>\n",
       "    </tr>\n",
       "    <tr>\n",
       "      <th>1</th>\n",
       "      <td>433558</td>\n",
       "      <td>2010/11</td>\n",
       "      <td>2011-02-19</td>\n",
       "      <td>Shere Bangla National Stadium</td>\n",
       "      <td>1</td>\n",
       "      <td>0.2</td>\n",
       "      <td>India</td>\n",
       "      <td>Bangladesh</td>\n",
       "      <td>V Sehwag</td>\n",
       "      <td>SR Tendulkar</td>\n",
       "      <td>...</td>\n",
       "      <td>0</td>\n",
       "      <td>NaN</td>\n",
       "      <td>NaN</td>\n",
       "      <td>NaN</td>\n",
       "      <td>NaN</td>\n",
       "      <td>NaN</td>\n",
       "      <td>NaN</td>\n",
       "      <td>NaN</td>\n",
       "      <td>NaN</td>\n",
       "      <td>NaN</td>\n",
       "    </tr>\n",
       "    <tr>\n",
       "      <th>2</th>\n",
       "      <td>433558</td>\n",
       "      <td>2010/11</td>\n",
       "      <td>2011-02-19</td>\n",
       "      <td>Shere Bangla National Stadium</td>\n",
       "      <td>1</td>\n",
       "      <td>0.3</td>\n",
       "      <td>India</td>\n",
       "      <td>Bangladesh</td>\n",
       "      <td>V Sehwag</td>\n",
       "      <td>SR Tendulkar</td>\n",
       "      <td>...</td>\n",
       "      <td>0</td>\n",
       "      <td>NaN</td>\n",
       "      <td>NaN</td>\n",
       "      <td>NaN</td>\n",
       "      <td>NaN</td>\n",
       "      <td>NaN</td>\n",
       "      <td>NaN</td>\n",
       "      <td>NaN</td>\n",
       "      <td>NaN</td>\n",
       "      <td>NaN</td>\n",
       "    </tr>\n",
       "    <tr>\n",
       "      <th>3</th>\n",
       "      <td>433558</td>\n",
       "      <td>2010/11</td>\n",
       "      <td>2011-02-19</td>\n",
       "      <td>Shere Bangla National Stadium</td>\n",
       "      <td>1</td>\n",
       "      <td>0.4</td>\n",
       "      <td>India</td>\n",
       "      <td>Bangladesh</td>\n",
       "      <td>V Sehwag</td>\n",
       "      <td>SR Tendulkar</td>\n",
       "      <td>...</td>\n",
       "      <td>0</td>\n",
       "      <td>NaN</td>\n",
       "      <td>NaN</td>\n",
       "      <td>NaN</td>\n",
       "      <td>NaN</td>\n",
       "      <td>NaN</td>\n",
       "      <td>NaN</td>\n",
       "      <td>NaN</td>\n",
       "      <td>NaN</td>\n",
       "      <td>NaN</td>\n",
       "    </tr>\n",
       "    <tr>\n",
       "      <th>4</th>\n",
       "      <td>433558</td>\n",
       "      <td>2010/11</td>\n",
       "      <td>2011-02-19</td>\n",
       "      <td>Shere Bangla National Stadium</td>\n",
       "      <td>1</td>\n",
       "      <td>0.5</td>\n",
       "      <td>India</td>\n",
       "      <td>Bangladesh</td>\n",
       "      <td>V Sehwag</td>\n",
       "      <td>SR Tendulkar</td>\n",
       "      <td>...</td>\n",
       "      <td>0</td>\n",
       "      <td>NaN</td>\n",
       "      <td>NaN</td>\n",
       "      <td>NaN</td>\n",
       "      <td>NaN</td>\n",
       "      <td>NaN</td>\n",
       "      <td>NaN</td>\n",
       "      <td>NaN</td>\n",
       "      <td>NaN</td>\n",
       "      <td>NaN</td>\n",
       "    </tr>\n",
       "    <tr>\n",
       "      <th>...</th>\n",
       "      <td>...</td>\n",
       "      <td>...</td>\n",
       "      <td>...</td>\n",
       "      <td>...</td>\n",
       "      <td>...</td>\n",
       "      <td>...</td>\n",
       "      <td>...</td>\n",
       "      <td>...</td>\n",
       "      <td>...</td>\n",
       "      <td>...</td>\n",
       "      <td>...</td>\n",
       "      <td>...</td>\n",
       "      <td>...</td>\n",
       "      <td>...</td>\n",
       "      <td>...</td>\n",
       "      <td>...</td>\n",
       "      <td>...</td>\n",
       "      <td>...</td>\n",
       "      <td>...</td>\n",
       "      <td>...</td>\n",
       "      <td>...</td>\n",
       "    </tr>\n",
       "    <tr>\n",
       "      <th>154138</th>\n",
       "      <td>1384436</td>\n",
       "      <td>2023/24</td>\n",
       "      <td>2023-11-12</td>\n",
       "      <td>M Chinnaswamy Stadium, Bengaluru</td>\n",
       "      <td>2</td>\n",
       "      <td>47.1</td>\n",
       "      <td>Netherlands</td>\n",
       "      <td>India</td>\n",
       "      <td>PA van Meekeren</td>\n",
       "      <td>AT Nidamanuru</td>\n",
       "      <td>...</td>\n",
       "      <td>0</td>\n",
       "      <td>NaN</td>\n",
       "      <td>NaN</td>\n",
       "      <td>NaN</td>\n",
       "      <td>NaN</td>\n",
       "      <td>NaN</td>\n",
       "      <td>NaN</td>\n",
       "      <td>NaN</td>\n",
       "      <td>NaN</td>\n",
       "      <td>NaN</td>\n",
       "    </tr>\n",
       "    <tr>\n",
       "      <th>154139</th>\n",
       "      <td>1384436</td>\n",
       "      <td>2023/24</td>\n",
       "      <td>2023-11-12</td>\n",
       "      <td>M Chinnaswamy Stadium, Bengaluru</td>\n",
       "      <td>2</td>\n",
       "      <td>47.2</td>\n",
       "      <td>Netherlands</td>\n",
       "      <td>India</td>\n",
       "      <td>PA van Meekeren</td>\n",
       "      <td>AT Nidamanuru</td>\n",
       "      <td>...</td>\n",
       "      <td>0</td>\n",
       "      <td>NaN</td>\n",
       "      <td>NaN</td>\n",
       "      <td>NaN</td>\n",
       "      <td>NaN</td>\n",
       "      <td>NaN</td>\n",
       "      <td>NaN</td>\n",
       "      <td>NaN</td>\n",
       "      <td>NaN</td>\n",
       "      <td>NaN</td>\n",
       "    </tr>\n",
       "    <tr>\n",
       "      <th>154140</th>\n",
       "      <td>1384436</td>\n",
       "      <td>2023/24</td>\n",
       "      <td>2023-11-12</td>\n",
       "      <td>M Chinnaswamy Stadium, Bengaluru</td>\n",
       "      <td>2</td>\n",
       "      <td>47.3</td>\n",
       "      <td>Netherlands</td>\n",
       "      <td>India</td>\n",
       "      <td>AT Nidamanuru</td>\n",
       "      <td>PA van Meekeren</td>\n",
       "      <td>...</td>\n",
       "      <td>0</td>\n",
       "      <td>NaN</td>\n",
       "      <td>NaN</td>\n",
       "      <td>NaN</td>\n",
       "      <td>NaN</td>\n",
       "      <td>NaN</td>\n",
       "      <td>NaN</td>\n",
       "      <td>NaN</td>\n",
       "      <td>NaN</td>\n",
       "      <td>NaN</td>\n",
       "    </tr>\n",
       "    <tr>\n",
       "      <th>154141</th>\n",
       "      <td>1384436</td>\n",
       "      <td>2023/24</td>\n",
       "      <td>2023-11-12</td>\n",
       "      <td>M Chinnaswamy Stadium, Bengaluru</td>\n",
       "      <td>2</td>\n",
       "      <td>47.4</td>\n",
       "      <td>Netherlands</td>\n",
       "      <td>India</td>\n",
       "      <td>AT Nidamanuru</td>\n",
       "      <td>PA van Meekeren</td>\n",
       "      <td>...</td>\n",
       "      <td>0</td>\n",
       "      <td>NaN</td>\n",
       "      <td>NaN</td>\n",
       "      <td>NaN</td>\n",
       "      <td>NaN</td>\n",
       "      <td>NaN</td>\n",
       "      <td>NaN</td>\n",
       "      <td>NaN</td>\n",
       "      <td>NaN</td>\n",
       "      <td>NaN</td>\n",
       "    </tr>\n",
       "    <tr>\n",
       "      <th>154142</th>\n",
       "      <td>1384436</td>\n",
       "      <td>2023/24</td>\n",
       "      <td>2023-11-12</td>\n",
       "      <td>M Chinnaswamy Stadium, Bengaluru</td>\n",
       "      <td>2</td>\n",
       "      <td>47.5</td>\n",
       "      <td>Netherlands</td>\n",
       "      <td>India</td>\n",
       "      <td>AT Nidamanuru</td>\n",
       "      <td>PA van Meekeren</td>\n",
       "      <td>...</td>\n",
       "      <td>0</td>\n",
       "      <td>NaN</td>\n",
       "      <td>NaN</td>\n",
       "      <td>NaN</td>\n",
       "      <td>NaN</td>\n",
       "      <td>NaN</td>\n",
       "      <td>caught</td>\n",
       "      <td>AT Nidamanuru</td>\n",
       "      <td>NaN</td>\n",
       "      <td>NaN</td>\n",
       "    </tr>\n",
       "  </tbody>\n",
       "</table>\n",
       "<p>154143 rows × 22 columns</p>\n",
       "</div>"
      ],
      "text/plain": [
       "        match_id   season  start_date                             venue  \\\n",
       "0         433558  2010/11  2011-02-19     Shere Bangla National Stadium   \n",
       "1         433558  2010/11  2011-02-19     Shere Bangla National Stadium   \n",
       "2         433558  2010/11  2011-02-19     Shere Bangla National Stadium   \n",
       "3         433558  2010/11  2011-02-19     Shere Bangla National Stadium   \n",
       "4         433558  2010/11  2011-02-19     Shere Bangla National Stadium   \n",
       "...          ...      ...         ...                               ...   \n",
       "154138   1384436  2023/24  2023-11-12  M Chinnaswamy Stadium, Bengaluru   \n",
       "154139   1384436  2023/24  2023-11-12  M Chinnaswamy Stadium, Bengaluru   \n",
       "154140   1384436  2023/24  2023-11-12  M Chinnaswamy Stadium, Bengaluru   \n",
       "154141   1384436  2023/24  2023-11-12  M Chinnaswamy Stadium, Bengaluru   \n",
       "154142   1384436  2023/24  2023-11-12  M Chinnaswamy Stadium, Bengaluru   \n",
       "\n",
       "        innings  ball batting_team bowling_team          striker  \\\n",
       "0             1   0.1        India   Bangladesh         V Sehwag   \n",
       "1             1   0.2        India   Bangladesh         V Sehwag   \n",
       "2             1   0.3        India   Bangladesh         V Sehwag   \n",
       "3             1   0.4        India   Bangladesh         V Sehwag   \n",
       "4             1   0.5        India   Bangladesh         V Sehwag   \n",
       "...         ...   ...          ...          ...              ...   \n",
       "154138        2  47.1  Netherlands        India  PA van Meekeren   \n",
       "154139        2  47.2  Netherlands        India  PA van Meekeren   \n",
       "154140        2  47.3  Netherlands        India    AT Nidamanuru   \n",
       "154141        2  47.4  Netherlands        India    AT Nidamanuru   \n",
       "154142        2  47.5  Netherlands        India    AT Nidamanuru   \n",
       "\n",
       "            non_striker  ... extras  wides  noballs  byes  legbyes  penalty  \\\n",
       "0          SR Tendulkar  ...      0    NaN      NaN   NaN      NaN      NaN   \n",
       "1          SR Tendulkar  ...      0    NaN      NaN   NaN      NaN      NaN   \n",
       "2          SR Tendulkar  ...      0    NaN      NaN   NaN      NaN      NaN   \n",
       "3          SR Tendulkar  ...      0    NaN      NaN   NaN      NaN      NaN   \n",
       "4          SR Tendulkar  ...      0    NaN      NaN   NaN      NaN      NaN   \n",
       "...                 ...  ...    ...    ...      ...   ...      ...      ...   \n",
       "154138    AT Nidamanuru  ...      0    NaN      NaN   NaN      NaN      NaN   \n",
       "154139    AT Nidamanuru  ...      0    NaN      NaN   NaN      NaN      NaN   \n",
       "154140  PA van Meekeren  ...      0    NaN      NaN   NaN      NaN      NaN   \n",
       "154141  PA van Meekeren  ...      0    NaN      NaN   NaN      NaN      NaN   \n",
       "154142  PA van Meekeren  ...      0    NaN      NaN   NaN      NaN      NaN   \n",
       "\n",
       "        wicket_type  player_dismissed other_wicket_type other_player_dismissed  \n",
       "0               NaN               NaN               NaN                    NaN  \n",
       "1               NaN               NaN               NaN                    NaN  \n",
       "2               NaN               NaN               NaN                    NaN  \n",
       "3               NaN               NaN               NaN                    NaN  \n",
       "4               NaN               NaN               NaN                    NaN  \n",
       "...             ...               ...               ...                    ...  \n",
       "154138          NaN               NaN               NaN                    NaN  \n",
       "154139          NaN               NaN               NaN                    NaN  \n",
       "154140          NaN               NaN               NaN                    NaN  \n",
       "154141          NaN               NaN               NaN                    NaN  \n",
       "154142       caught     AT Nidamanuru               NaN                    NaN  \n",
       "\n",
       "[154143 rows x 22 columns]"
      ]
     },
     "execution_count": 51,
     "metadata": {},
     "output_type": "execute_result"
    }
   ],
   "source": [
    "df = pd.read_csv(\"all_matches.csv\", low_memory=False)\n",
    "df"
   ]
  },
  {
   "cell_type": "code",
   "execution_count": 7,
   "id": "96a3b34b-19ca-42ef-b9e1-f98324586bb7",
   "metadata": {},
   "outputs": [
    {
     "name": "stdout",
     "output_type": "stream",
     "text": [
      "        match_id   season start_date                                venue  \\\n",
      "127646     65286  2002/03 2003-03-23  New Wanderers Stadium, Johannesburg   \n",
      "127647     65286  2002/03 2003-03-23  New Wanderers Stadium, Johannesburg   \n",
      "127642     65286  2002/03 2003-03-23  New Wanderers Stadium, Johannesburg   \n",
      "77604     247507  2006/07 2007-04-28          Kensington Oval, Bridgetown   \n",
      "77616     247507  2006/07 2007-04-28          Kensington Oval, Bridgetown   \n",
      "77535     247507  2006/07 2007-04-28          Kensington Oval, Bridgetown   \n",
      "25933     433606  2010/11 2011-04-02                     Wankhede Stadium   \n",
      "25935     433606  2010/11 2011-04-02                     Wankhede Stadium   \n",
      "25934     433606  2010/11 2011-04-02                     Wankhede Stadium   \n",
      "51705     656495  2014/15 2015-03-29             Melbourne Cricket Ground   \n",
      "51707     656495  2014/15 2015-03-29             Melbourne Cricket Ground   \n",
      "51706     656495  2014/15 2015-03-29             Melbourne Cricket Ground   \n",
      "102212   1144530     2019 2019-07-14                               Lord's   \n",
      "102206   1144530     2019 2019-07-14                               Lord's   \n",
      "102211   1144530     2019 2019-07-14                               Lord's   \n",
      "153346   1384439  2023/24 2023-11-19     Narendra Modi Stadium, Ahmedabad   \n",
      "153352   1384439  2023/24 2023-11-19     Narendra Modi Stadium, Ahmedabad   \n",
      "153250   1384439  2023/24 2023-11-19     Narendra Modi Stadium, Ahmedabad   \n",
      "\n",
      "        innings  ball batting_team bowling_team        striker   non_striker  \\\n",
      "127646        1  29.4    Australia        India      DR Martyn    RT Ponting   \n",
      "127647        1  29.5    Australia        India      DR Martyn    RT Ponting   \n",
      "127642        1  28.6    Australia        India     RT Ponting     DR Martyn   \n",
      "77604         1  23.3    Australia    Sri Lanka   AC Gilchrist    RT Ponting   \n",
      "77616         1  25.2    Australia    Sri Lanka   AC Gilchrist    RT Ponting   \n",
      "77535         1  12.5    Australia    Sri Lanka      ML Hayden  AC Gilchrist   \n",
      "25933         2  31.4        India    Sri Lanka      G Gambhir      MS Dhoni   \n",
      "25935         2  31.6        India    Sri Lanka       MS Dhoni     G Gambhir   \n",
      "25934         2  31.5        India    Sri Lanka       MS Dhoni     G Gambhir   \n",
      "51705         2  24.4    Australia  New Zealand      MJ Clarke     SPD Smith   \n",
      "51707         2  24.6    Australia  New Zealand      MJ Clarke     SPD Smith   \n",
      "51706         2  24.5    Australia  New Zealand      MJ Clarke     SPD Smith   \n",
      "102212        1  34.4  New Zealand      England    JDS Neesham    TWM Latham   \n",
      "102206        1  33.4  New Zealand      England    JDS Neesham    TWM Latham   \n",
      "102211        1  34.3  New Zealand      England    JDS Neesham    TWM Latham   \n",
      "153346        2  11.1    Australia        India  M Labuschagne       TM Head   \n",
      "153352        2  12.1    Australia        India  M Labuschagne       TM Head   \n",
      "153250        1  46.1        India    Australia  Kuldeep Yadav      SA Yadav   \n",
      "\n",
      "        ... extras  wides  noballs  byes  legbyes  penalty  wicket_type  \\\n",
      "127646  ...      0    NaN      NaN   NaN      NaN      NaN          NaN   \n",
      "127647  ...      0    NaN      NaN   NaN      NaN      NaN          NaN   \n",
      "127642  ...      0    NaN      NaN   NaN      NaN      NaN          NaN   \n",
      "77604   ...      0    NaN      NaN   NaN      NaN      NaN          NaN   \n",
      "77616   ...      0    NaN      NaN   NaN      NaN      NaN          NaN   \n",
      "77535   ...      0    NaN      NaN   NaN      NaN      NaN          NaN   \n",
      "25933   ...      0    NaN      NaN   NaN      NaN      NaN          NaN   \n",
      "25935   ...      0    NaN      NaN   NaN      NaN      NaN          NaN   \n",
      "25934   ...      0    NaN      NaN   NaN      NaN      NaN          NaN   \n",
      "51705   ...      0    NaN      NaN   NaN      NaN      NaN          NaN   \n",
      "51707   ...      0    NaN      NaN   NaN      NaN      NaN          NaN   \n",
      "51706   ...      0    NaN      NaN   NaN      NaN      NaN          NaN   \n",
      "102212  ...      0    NaN      NaN   NaN      NaN      NaN          NaN   \n",
      "102206  ...      0    NaN      NaN   NaN      NaN      NaN          NaN   \n",
      "102211  ...      0    NaN      NaN   NaN      NaN      NaN          NaN   \n",
      "153346  ...      0    NaN      NaN   NaN      NaN      NaN          NaN   \n",
      "153352  ...      0    NaN      NaN   NaN      NaN      NaN          NaN   \n",
      "153250  ...      0    NaN      NaN   NaN      NaN      NaN          NaN   \n",
      "\n",
      "        player_dismissed other_wicket_type other_player_dismissed  \n",
      "127646               NaN               NaN                    NaN  \n",
      "127647               NaN               NaN                    NaN  \n",
      "127642               NaN               NaN                    NaN  \n",
      "77604                NaN               NaN                    NaN  \n",
      "77616                NaN               NaN                    NaN  \n",
      "77535                NaN               NaN                    NaN  \n",
      "25933                NaN               NaN                    NaN  \n",
      "25935                NaN               NaN                    NaN  \n",
      "25934                NaN               NaN                    NaN  \n",
      "51705                NaN               NaN                    NaN  \n",
      "51707                NaN               NaN                    NaN  \n",
      "51706                NaN               NaN                    NaN  \n",
      "102212               NaN               NaN                    NaN  \n",
      "102206               NaN               NaN                    NaN  \n",
      "102211               NaN               NaN                    NaN  \n",
      "153346               NaN               NaN                    NaN  \n",
      "153352               NaN               NaN                    NaN  \n",
      "153250               NaN               NaN                    NaN  \n",
      "\n",
      "[18 rows x 22 columns]\n"
     ]
    }
   ],
   "source": [
    "df['start_date'] = pd.to_datetime(df['start_date'])\n",
    "\n",
    "quarter_semi_final_final_df = df.sort_values(by='start_date').groupby('season').tail(3)\n",
    "\n",
    "print(quarter_semi_final_final_df)"
   ]
  },
  {
   "cell_type": "markdown",
   "id": "fa576920-e132-4357-abc1-f03ac19772d0",
   "metadata": {},
   "source": [
    "# extracting SF and finalists from all seasons"
   ]
  },
  {
   "cell_type": "code",
   "execution_count": 9,
   "id": "a3f8851d-ce96-400d-8fac-1f305ae596a6",
   "metadata": {},
   "outputs": [
    {
     "data": {
      "text/plain": [
       "(       match_id   season start_date                venue  innings  ball  \\\n",
       " 24231    433604  2010/11 2011-03-29  R Premadasa Stadium        1   0.1   \n",
       " 24232    433604  2010/11 2011-03-29  R Premadasa Stadium        1   0.2   \n",
       " 24233    433604  2010/11 2011-03-29  R Premadasa Stadium        1   0.3   \n",
       " 24234    433604  2010/11 2011-03-29  R Premadasa Stadium        1   0.4   \n",
       " 24235    433604  2010/11 2011-03-29  R Premadasa Stadium        1   0.5   \n",
       " \n",
       "       batting_team bowling_team     striker  non_striker  ... extras  wides  \\\n",
       " 24231  New Zealand    Sri Lanka  MJ Guptill  BB McCullum  ...      0    NaN   \n",
       " 24232  New Zealand    Sri Lanka  MJ Guptill  BB McCullum  ...      0    NaN   \n",
       " 24233  New Zealand    Sri Lanka  MJ Guptill  BB McCullum  ...      0    NaN   \n",
       " 24234  New Zealand    Sri Lanka  MJ Guptill  BB McCullum  ...      0    NaN   \n",
       " 24235  New Zealand    Sri Lanka  MJ Guptill  BB McCullum  ...      0    NaN   \n",
       " \n",
       "        noballs  byes  legbyes  penalty  wicket_type  player_dismissed  \\\n",
       " 24231      NaN   NaN      NaN      NaN          NaN               NaN   \n",
       " 24232      NaN   NaN      NaN      NaN          NaN               NaN   \n",
       " 24233      NaN   NaN      NaN      NaN          NaN               NaN   \n",
       " 24234      NaN   NaN      NaN      NaN          NaN               NaN   \n",
       " 24235      NaN   NaN      NaN      NaN          NaN               NaN   \n",
       " \n",
       "       other_wicket_type other_player_dismissed  \n",
       " 24231               NaN                    NaN  \n",
       " 24232               NaN                    NaN  \n",
       " 24233               NaN                    NaN  \n",
       " 24234               NaN                    NaN  \n",
       " 24235               NaN                    NaN  \n",
       " \n",
       " [5 rows x 22 columns],\n",
       " (10158, 22))"
      ]
     },
     "execution_count": 9,
     "metadata": {},
     "output_type": "execute_result"
    }
   ],
   "source": [
    "df['start_date'] = pd.to_datetime(df['start_date'])\n",
    "\n",
    "last_three_dates = (df.groupby('season')['start_date'].apply(lambda x: x.drop_duplicates().nlargest(3)).reset_index(drop=True))\n",
    "\n",
    "filtered_df = df[df['start_date'].isin(last_three_dates)]\n",
    "\n",
    "filtered_df.head(), filtered_df.shape"
   ]
  },
  {
   "cell_type": "code",
   "execution_count": 10,
   "id": "afc09be6-0cd4-4a26-a991-076ac25b3199",
   "metadata": {},
   "outputs": [],
   "source": [
    "filtered_df.to_excel(\"Matches_season_data.xlsx\")"
   ]
  },
  {
   "cell_type": "code",
   "execution_count": 11,
   "id": "42003683-7bd1-4e15-9721-251d487ab969",
   "metadata": {},
   "outputs": [
    {
     "data": {
      "text/plain": [
       "(10158, 22)"
      ]
     },
     "execution_count": 11,
     "metadata": {},
     "output_type": "execute_result"
    }
   ],
   "source": [
    "filtered_df.shape"
   ]
  },
  {
   "cell_type": "code",
   "execution_count": 12,
   "id": "57737389-b8c4-4eeb-90b8-d351ed9fac1d",
   "metadata": {},
   "outputs": [
    {
     "data": {
      "text/plain": [
       "match_id                      0\n",
       "season                        0\n",
       "start_date                    0\n",
       "venue                         0\n",
       "innings                       0\n",
       "ball                          0\n",
       "batting_team                  0\n",
       "bowling_team                  0\n",
       "striker                       0\n",
       "non_striker                   0\n",
       "bowler                        0\n",
       "runs_off_bat                  0\n",
       "extras                        0\n",
       "wides                      9896\n",
       "noballs                   10114\n",
       "byes                      10137\n",
       "legbyes                   10048\n",
       "penalty                   10158\n",
       "wicket_type                9899\n",
       "player_dismissed           9899\n",
       "other_wicket_type         10158\n",
       "other_player_dismissed    10158\n",
       "dtype: int64"
      ]
     },
     "execution_count": 12,
     "metadata": {},
     "output_type": "execute_result"
    }
   ],
   "source": [
    "filtered_df.isnull().sum()"
   ]
  },
  {
   "cell_type": "code",
   "execution_count": 13,
   "id": "f349a717-99b0-4719-ad62-248241d6f642",
   "metadata": {},
   "outputs": [
    {
     "name": "stderr",
     "output_type": "stream",
     "text": [
      "C:\\Users\\Asus\\AppData\\Local\\Temp\\ipykernel_22488\\2203418845.py:2: SettingWithCopyWarning: \n",
      "A value is trying to be set on a copy of a slice from a DataFrame\n",
      "\n",
      "See the caveats in the documentation: https://pandas.pydata.org/pandas-docs/stable/user_guide/indexing.html#returning-a-view-versus-a-copy\n",
      "  filtered_df.drop(filtered_df.iloc[:, 13:22], inplace=True, axis=1)\n"
     ]
    }
   ],
   "source": [
    "# Remove all columns between column index 1 to 3\n",
    "filtered_df.drop(filtered_df.iloc[:, 13:22], inplace=True, axis=1)\n"
   ]
  },
  {
   "cell_type": "code",
   "execution_count": 14,
   "id": "59aeb730-c942-47a5-b081-72001546be0f",
   "metadata": {},
   "outputs": [
    {
     "data": {
      "text/plain": [
       "Index(['match_id', 'season', 'start_date', 'venue', 'innings', 'ball',\n",
       "       'batting_team', 'bowling_team', 'striker', 'non_striker', 'bowler',\n",
       "       'runs_off_bat', 'extras'],\n",
       "      dtype='object')"
      ]
     },
     "execution_count": 14,
     "metadata": {},
     "output_type": "execute_result"
    }
   ],
   "source": [
    "filtered_df.columns"
   ]
  },
  {
   "cell_type": "code",
   "execution_count": 15,
   "id": "b2d90c6b-9e71-4d7f-84f9-7a78bcc0a74f",
   "metadata": {},
   "outputs": [
    {
     "data": {
      "text/plain": [
       "runs_off_bat\n",
       "0    5693\n",
       "1    3009\n",
       "4     729\n",
       "2     502\n",
       "6     173\n",
       "3      51\n",
       "5       1\n",
       "Name: count, dtype: int64"
      ]
     },
     "execution_count": 15,
     "metadata": {},
     "output_type": "execute_result"
    }
   ],
   "source": [
    "filtered_df[\"runs_off_bat\"].value_counts()"
   ]
  },
  {
   "cell_type": "code",
   "execution_count": 16,
   "id": "eaf89290-3086-4993-9470-c71511262273",
   "metadata": {},
   "outputs": [
    {
     "data": {
      "text/plain": [
       "match_id        0\n",
       "season          0\n",
       "start_date      0\n",
       "venue           0\n",
       "innings         0\n",
       "ball            0\n",
       "batting_team    0\n",
       "bowling_team    0\n",
       "striker         0\n",
       "non_striker     0\n",
       "bowler          0\n",
       "runs_off_bat    0\n",
       "extras          0\n",
       "dtype: int64"
      ]
     },
     "execution_count": 16,
     "metadata": {},
     "output_type": "execute_result"
    }
   ],
   "source": [
    "filtered_df.isnull().sum()"
   ]
  },
  {
   "cell_type": "code",
   "execution_count": 17,
   "id": "37903889-d277-46fa-abee-14c1e3ddc457",
   "metadata": {},
   "outputs": [
    {
     "data": {
      "text/html": [
       "<div>\n",
       "<style scoped>\n",
       "    .dataframe tbody tr th:only-of-type {\n",
       "        vertical-align: middle;\n",
       "    }\n",
       "\n",
       "    .dataframe tbody tr th {\n",
       "        vertical-align: top;\n",
       "    }\n",
       "\n",
       "    .dataframe thead th {\n",
       "        text-align: right;\n",
       "    }\n",
       "</style>\n",
       "<table border=\"1\" class=\"dataframe\">\n",
       "  <thead>\n",
       "    <tr style=\"text-align: right;\">\n",
       "      <th></th>\n",
       "      <th>match_id</th>\n",
       "      <th>season</th>\n",
       "      <th>start_date</th>\n",
       "      <th>venue</th>\n",
       "      <th>innings</th>\n",
       "      <th>ball</th>\n",
       "      <th>batting_team</th>\n",
       "      <th>bowling_team</th>\n",
       "      <th>striker</th>\n",
       "      <th>non_striker</th>\n",
       "      <th>bowler</th>\n",
       "      <th>runs_off_bat</th>\n",
       "      <th>extras</th>\n",
       "    </tr>\n",
       "  </thead>\n",
       "  <tbody>\n",
       "    <tr>\n",
       "      <th>24231</th>\n",
       "      <td>433604</td>\n",
       "      <td>2010/11</td>\n",
       "      <td>2011-03-29</td>\n",
       "      <td>R Premadasa Stadium</td>\n",
       "      <td>1</td>\n",
       "      <td>0.1</td>\n",
       "      <td>New Zealand</td>\n",
       "      <td>Sri Lanka</td>\n",
       "      <td>MJ Guptill</td>\n",
       "      <td>BB McCullum</td>\n",
       "      <td>SL Malinga</td>\n",
       "      <td>0</td>\n",
       "      <td>0</td>\n",
       "    </tr>\n",
       "    <tr>\n",
       "      <th>24232</th>\n",
       "      <td>433604</td>\n",
       "      <td>2010/11</td>\n",
       "      <td>2011-03-29</td>\n",
       "      <td>R Premadasa Stadium</td>\n",
       "      <td>1</td>\n",
       "      <td>0.2</td>\n",
       "      <td>New Zealand</td>\n",
       "      <td>Sri Lanka</td>\n",
       "      <td>MJ Guptill</td>\n",
       "      <td>BB McCullum</td>\n",
       "      <td>SL Malinga</td>\n",
       "      <td>0</td>\n",
       "      <td>0</td>\n",
       "    </tr>\n",
       "    <tr>\n",
       "      <th>24233</th>\n",
       "      <td>433604</td>\n",
       "      <td>2010/11</td>\n",
       "      <td>2011-03-29</td>\n",
       "      <td>R Premadasa Stadium</td>\n",
       "      <td>1</td>\n",
       "      <td>0.3</td>\n",
       "      <td>New Zealand</td>\n",
       "      <td>Sri Lanka</td>\n",
       "      <td>MJ Guptill</td>\n",
       "      <td>BB McCullum</td>\n",
       "      <td>SL Malinga</td>\n",
       "      <td>0</td>\n",
       "      <td>0</td>\n",
       "    </tr>\n",
       "    <tr>\n",
       "      <th>24234</th>\n",
       "      <td>433604</td>\n",
       "      <td>2010/11</td>\n",
       "      <td>2011-03-29</td>\n",
       "      <td>R Premadasa Stadium</td>\n",
       "      <td>1</td>\n",
       "      <td>0.4</td>\n",
       "      <td>New Zealand</td>\n",
       "      <td>Sri Lanka</td>\n",
       "      <td>MJ Guptill</td>\n",
       "      <td>BB McCullum</td>\n",
       "      <td>SL Malinga</td>\n",
       "      <td>0</td>\n",
       "      <td>0</td>\n",
       "    </tr>\n",
       "    <tr>\n",
       "      <th>24235</th>\n",
       "      <td>433604</td>\n",
       "      <td>2010/11</td>\n",
       "      <td>2011-03-29</td>\n",
       "      <td>R Premadasa Stadium</td>\n",
       "      <td>1</td>\n",
       "      <td>0.5</td>\n",
       "      <td>New Zealand</td>\n",
       "      <td>Sri Lanka</td>\n",
       "      <td>MJ Guptill</td>\n",
       "      <td>BB McCullum</td>\n",
       "      <td>SL Malinga</td>\n",
       "      <td>4</td>\n",
       "      <td>0</td>\n",
       "    </tr>\n",
       "    <tr>\n",
       "      <th>...</th>\n",
       "      <td>...</td>\n",
       "      <td>...</td>\n",
       "      <td>...</td>\n",
       "      <td>...</td>\n",
       "      <td>...</td>\n",
       "      <td>...</td>\n",
       "      <td>...</td>\n",
       "      <td>...</td>\n",
       "      <td>...</td>\n",
       "      <td>...</td>\n",
       "      <td>...</td>\n",
       "      <td>...</td>\n",
       "      <td>...</td>\n",
       "    </tr>\n",
       "    <tr>\n",
       "      <th>153533</th>\n",
       "      <td>1384439</td>\n",
       "      <td>2023/24</td>\n",
       "      <td>2023-11-19</td>\n",
       "      <td>Narendra Modi Stadium, Ahmedabad</td>\n",
       "      <td>2</td>\n",
       "      <td>42.2</td>\n",
       "      <td>Australia</td>\n",
       "      <td>India</td>\n",
       "      <td>TM Head</td>\n",
       "      <td>M Labuschagne</td>\n",
       "      <td>Mohammed Siraj</td>\n",
       "      <td>4</td>\n",
       "      <td>0</td>\n",
       "    </tr>\n",
       "    <tr>\n",
       "      <th>153534</th>\n",
       "      <td>1384439</td>\n",
       "      <td>2023/24</td>\n",
       "      <td>2023-11-19</td>\n",
       "      <td>Narendra Modi Stadium, Ahmedabad</td>\n",
       "      <td>2</td>\n",
       "      <td>42.3</td>\n",
       "      <td>Australia</td>\n",
       "      <td>India</td>\n",
       "      <td>TM Head</td>\n",
       "      <td>M Labuschagne</td>\n",
       "      <td>Mohammed Siraj</td>\n",
       "      <td>1</td>\n",
       "      <td>0</td>\n",
       "    </tr>\n",
       "    <tr>\n",
       "      <th>153535</th>\n",
       "      <td>1384439</td>\n",
       "      <td>2023/24</td>\n",
       "      <td>2023-11-19</td>\n",
       "      <td>Narendra Modi Stadium, Ahmedabad</td>\n",
       "      <td>2</td>\n",
       "      <td>42.4</td>\n",
       "      <td>Australia</td>\n",
       "      <td>India</td>\n",
       "      <td>M Labuschagne</td>\n",
       "      <td>TM Head</td>\n",
       "      <td>Mohammed Siraj</td>\n",
       "      <td>1</td>\n",
       "      <td>0</td>\n",
       "    </tr>\n",
       "    <tr>\n",
       "      <th>153536</th>\n",
       "      <td>1384439</td>\n",
       "      <td>2023/24</td>\n",
       "      <td>2023-11-19</td>\n",
       "      <td>Narendra Modi Stadium, Ahmedabad</td>\n",
       "      <td>2</td>\n",
       "      <td>42.5</td>\n",
       "      <td>Australia</td>\n",
       "      <td>India</td>\n",
       "      <td>TM Head</td>\n",
       "      <td>M Labuschagne</td>\n",
       "      <td>Mohammed Siraj</td>\n",
       "      <td>0</td>\n",
       "      <td>0</td>\n",
       "    </tr>\n",
       "    <tr>\n",
       "      <th>153537</th>\n",
       "      <td>1384439</td>\n",
       "      <td>2023/24</td>\n",
       "      <td>2023-11-19</td>\n",
       "      <td>Narendra Modi Stadium, Ahmedabad</td>\n",
       "      <td>2</td>\n",
       "      <td>42.6</td>\n",
       "      <td>Australia</td>\n",
       "      <td>India</td>\n",
       "      <td>GJ Maxwell</td>\n",
       "      <td>M Labuschagne</td>\n",
       "      <td>Mohammed Siraj</td>\n",
       "      <td>2</td>\n",
       "      <td>0</td>\n",
       "    </tr>\n",
       "  </tbody>\n",
       "</table>\n",
       "<p>10158 rows × 13 columns</p>\n",
       "</div>"
      ],
      "text/plain": [
       "        match_id   season start_date                             venue  \\\n",
       "24231     433604  2010/11 2011-03-29               R Premadasa Stadium   \n",
       "24232     433604  2010/11 2011-03-29               R Premadasa Stadium   \n",
       "24233     433604  2010/11 2011-03-29               R Premadasa Stadium   \n",
       "24234     433604  2010/11 2011-03-29               R Premadasa Stadium   \n",
       "24235     433604  2010/11 2011-03-29               R Premadasa Stadium   \n",
       "...          ...      ...        ...                               ...   \n",
       "153533   1384439  2023/24 2023-11-19  Narendra Modi Stadium, Ahmedabad   \n",
       "153534   1384439  2023/24 2023-11-19  Narendra Modi Stadium, Ahmedabad   \n",
       "153535   1384439  2023/24 2023-11-19  Narendra Modi Stadium, Ahmedabad   \n",
       "153536   1384439  2023/24 2023-11-19  Narendra Modi Stadium, Ahmedabad   \n",
       "153537   1384439  2023/24 2023-11-19  Narendra Modi Stadium, Ahmedabad   \n",
       "\n",
       "        innings  ball batting_team bowling_team        striker    non_striker  \\\n",
       "24231         1   0.1  New Zealand    Sri Lanka     MJ Guptill    BB McCullum   \n",
       "24232         1   0.2  New Zealand    Sri Lanka     MJ Guptill    BB McCullum   \n",
       "24233         1   0.3  New Zealand    Sri Lanka     MJ Guptill    BB McCullum   \n",
       "24234         1   0.4  New Zealand    Sri Lanka     MJ Guptill    BB McCullum   \n",
       "24235         1   0.5  New Zealand    Sri Lanka     MJ Guptill    BB McCullum   \n",
       "...         ...   ...          ...          ...            ...            ...   \n",
       "153533        2  42.2    Australia        India        TM Head  M Labuschagne   \n",
       "153534        2  42.3    Australia        India        TM Head  M Labuschagne   \n",
       "153535        2  42.4    Australia        India  M Labuschagne        TM Head   \n",
       "153536        2  42.5    Australia        India        TM Head  M Labuschagne   \n",
       "153537        2  42.6    Australia        India     GJ Maxwell  M Labuschagne   \n",
       "\n",
       "                bowler  runs_off_bat  extras  \n",
       "24231       SL Malinga             0       0  \n",
       "24232       SL Malinga             0       0  \n",
       "24233       SL Malinga             0       0  \n",
       "24234       SL Malinga             0       0  \n",
       "24235       SL Malinga             4       0  \n",
       "...                ...           ...     ...  \n",
       "153533  Mohammed Siraj             4       0  \n",
       "153534  Mohammed Siraj             1       0  \n",
       "153535  Mohammed Siraj             1       0  \n",
       "153536  Mohammed Siraj             0       0  \n",
       "153537  Mohammed Siraj             2       0  \n",
       "\n",
       "[10158 rows x 13 columns]"
      ]
     },
     "execution_count": 17,
     "metadata": {},
     "output_type": "execute_result"
    }
   ],
   "source": [
    "filtered_df"
   ]
  },
  {
   "cell_type": "code",
   "execution_count": 18,
   "id": "ff4e093e-1961-48d5-9c97-d6fae0694e56",
   "metadata": {},
   "outputs": [],
   "source": [
    "filtered_df.to_csv(\"filtered_df.csv\")"
   ]
  },
  {
   "cell_type": "code",
   "execution_count": 19,
   "id": "d67df326-edb9-4c58-98b8-127f9b4d6a94",
   "metadata": {},
   "outputs": [],
   "source": [
    "# creating separate dataframe for each worldcup season\n",
    "\n",
    "wc2003 = filtered_df[filtered_df[\"season\"]==\"2002/03\"]\n",
    "wc2007 = filtered_df[filtered_df[\"season\"]==\"2006/07\"]\n",
    "wc2011 = filtered_df[filtered_df[\"season\"]==\"2010/11\"]\n",
    "wc2015 = filtered_df[filtered_df[\"season\"]==\"2014/15\"]\n",
    "wc2019 = filtered_df[filtered_df[\"season\"]==\"2019\"]\n",
    "wc2023 = filtered_df[filtered_df[\"season\"]==\"2023/24\"]"
   ]
  },
  {
   "cell_type": "code",
   "execution_count": 20,
   "id": "0ae431ff-4e71-4443-9112-985a62a0050a",
   "metadata": {},
   "outputs": [
    {
     "data": {
      "text/html": [
       "<div>\n",
       "<style scoped>\n",
       "    .dataframe tbody tr th:only-of-type {\n",
       "        vertical-align: middle;\n",
       "    }\n",
       "\n",
       "    .dataframe tbody tr th {\n",
       "        vertical-align: top;\n",
       "    }\n",
       "\n",
       "    .dataframe thead th {\n",
       "        text-align: right;\n",
       "    }\n",
       "</style>\n",
       "<table border=\"1\" class=\"dataframe\">\n",
       "  <thead>\n",
       "    <tr style=\"text-align: right;\">\n",
       "      <th></th>\n",
       "      <th>match_id</th>\n",
       "      <th>season</th>\n",
       "      <th>start_date</th>\n",
       "      <th>venue</th>\n",
       "      <th>innings</th>\n",
       "      <th>ball</th>\n",
       "      <th>batting_team</th>\n",
       "      <th>bowling_team</th>\n",
       "      <th>striker</th>\n",
       "      <th>non_striker</th>\n",
       "      <th>bowler</th>\n",
       "      <th>runs_off_bat</th>\n",
       "      <th>extras</th>\n",
       "    </tr>\n",
       "  </thead>\n",
       "  <tbody>\n",
       "    <tr>\n",
       "      <th>126324</th>\n",
       "      <td>65284</td>\n",
       "      <td>2002/03</td>\n",
       "      <td>2003-03-18</td>\n",
       "      <td>St George's Park, Port Elizabeth</td>\n",
       "      <td>1</td>\n",
       "      <td>0.1</td>\n",
       "      <td>Australia</td>\n",
       "      <td>Sri Lanka</td>\n",
       "      <td>AC Gilchrist</td>\n",
       "      <td>ML Hayden</td>\n",
       "      <td>WPUJC Vaas</td>\n",
       "      <td>0</td>\n",
       "      <td>0</td>\n",
       "    </tr>\n",
       "    <tr>\n",
       "      <th>126325</th>\n",
       "      <td>65284</td>\n",
       "      <td>2002/03</td>\n",
       "      <td>2003-03-18</td>\n",
       "      <td>St George's Park, Port Elizabeth</td>\n",
       "      <td>1</td>\n",
       "      <td>0.2</td>\n",
       "      <td>Australia</td>\n",
       "      <td>Sri Lanka</td>\n",
       "      <td>AC Gilchrist</td>\n",
       "      <td>ML Hayden</td>\n",
       "      <td>WPUJC Vaas</td>\n",
       "      <td>0</td>\n",
       "      <td>0</td>\n",
       "    </tr>\n",
       "    <tr>\n",
       "      <th>126326</th>\n",
       "      <td>65284</td>\n",
       "      <td>2002/03</td>\n",
       "      <td>2003-03-18</td>\n",
       "      <td>St George's Park, Port Elizabeth</td>\n",
       "      <td>1</td>\n",
       "      <td>0.3</td>\n",
       "      <td>Australia</td>\n",
       "      <td>Sri Lanka</td>\n",
       "      <td>AC Gilchrist</td>\n",
       "      <td>ML Hayden</td>\n",
       "      <td>WPUJC Vaas</td>\n",
       "      <td>0</td>\n",
       "      <td>0</td>\n",
       "    </tr>\n",
       "    <tr>\n",
       "      <th>126327</th>\n",
       "      <td>65284</td>\n",
       "      <td>2002/03</td>\n",
       "      <td>2003-03-18</td>\n",
       "      <td>St George's Park, Port Elizabeth</td>\n",
       "      <td>1</td>\n",
       "      <td>0.4</td>\n",
       "      <td>Australia</td>\n",
       "      <td>Sri Lanka</td>\n",
       "      <td>AC Gilchrist</td>\n",
       "      <td>ML Hayden</td>\n",
       "      <td>WPUJC Vaas</td>\n",
       "      <td>0</td>\n",
       "      <td>0</td>\n",
       "    </tr>\n",
       "    <tr>\n",
       "      <th>126328</th>\n",
       "      <td>65284</td>\n",
       "      <td>2002/03</td>\n",
       "      <td>2003-03-18</td>\n",
       "      <td>St George's Park, Port Elizabeth</td>\n",
       "      <td>1</td>\n",
       "      <td>0.5</td>\n",
       "      <td>Australia</td>\n",
       "      <td>Sri Lanka</td>\n",
       "      <td>AC Gilchrist</td>\n",
       "      <td>ML Hayden</td>\n",
       "      <td>WPUJC Vaas</td>\n",
       "      <td>0</td>\n",
       "      <td>1</td>\n",
       "    </tr>\n",
       "    <tr>\n",
       "      <th>...</th>\n",
       "      <td>...</td>\n",
       "      <td>...</td>\n",
       "      <td>...</td>\n",
       "      <td>...</td>\n",
       "      <td>...</td>\n",
       "      <td>...</td>\n",
       "      <td>...</td>\n",
       "      <td>...</td>\n",
       "      <td>...</td>\n",
       "      <td>...</td>\n",
       "      <td>...</td>\n",
       "      <td>...</td>\n",
       "      <td>...</td>\n",
       "    </tr>\n",
       "    <tr>\n",
       "      <th>128019</th>\n",
       "      <td>65286</td>\n",
       "      <td>2002/03</td>\n",
       "      <td>2003-03-23</td>\n",
       "      <td>New Wanderers Stadium, Johannesburg</td>\n",
       "      <td>2</td>\n",
       "      <td>38.4</td>\n",
       "      <td>India</td>\n",
       "      <td>Australia</td>\n",
       "      <td>A Nehra</td>\n",
       "      <td>Z Khan</td>\n",
       "      <td>B Lee</td>\n",
       "      <td>0</td>\n",
       "      <td>0</td>\n",
       "    </tr>\n",
       "    <tr>\n",
       "      <th>128020</th>\n",
       "      <td>65286</td>\n",
       "      <td>2002/03</td>\n",
       "      <td>2003-03-23</td>\n",
       "      <td>New Wanderers Stadium, Johannesburg</td>\n",
       "      <td>2</td>\n",
       "      <td>38.5</td>\n",
       "      <td>India</td>\n",
       "      <td>Australia</td>\n",
       "      <td>A Nehra</td>\n",
       "      <td>Z Khan</td>\n",
       "      <td>B Lee</td>\n",
       "      <td>4</td>\n",
       "      <td>0</td>\n",
       "    </tr>\n",
       "    <tr>\n",
       "      <th>128021</th>\n",
       "      <td>65286</td>\n",
       "      <td>2002/03</td>\n",
       "      <td>2003-03-23</td>\n",
       "      <td>New Wanderers Stadium, Johannesburg</td>\n",
       "      <td>2</td>\n",
       "      <td>38.6</td>\n",
       "      <td>India</td>\n",
       "      <td>Australia</td>\n",
       "      <td>A Nehra</td>\n",
       "      <td>Z Khan</td>\n",
       "      <td>B Lee</td>\n",
       "      <td>4</td>\n",
       "      <td>0</td>\n",
       "    </tr>\n",
       "    <tr>\n",
       "      <th>128022</th>\n",
       "      <td>65286</td>\n",
       "      <td>2002/03</td>\n",
       "      <td>2003-03-23</td>\n",
       "      <td>New Wanderers Stadium, Johannesburg</td>\n",
       "      <td>2</td>\n",
       "      <td>39.1</td>\n",
       "      <td>India</td>\n",
       "      <td>Australia</td>\n",
       "      <td>Z Khan</td>\n",
       "      <td>A Nehra</td>\n",
       "      <td>GD McGrath</td>\n",
       "      <td>0</td>\n",
       "      <td>0</td>\n",
       "    </tr>\n",
       "    <tr>\n",
       "      <th>128023</th>\n",
       "      <td>65286</td>\n",
       "      <td>2002/03</td>\n",
       "      <td>2003-03-23</td>\n",
       "      <td>New Wanderers Stadium, Johannesburg</td>\n",
       "      <td>2</td>\n",
       "      <td>39.2</td>\n",
       "      <td>India</td>\n",
       "      <td>Australia</td>\n",
       "      <td>Z Khan</td>\n",
       "      <td>A Nehra</td>\n",
       "      <td>GD McGrath</td>\n",
       "      <td>0</td>\n",
       "      <td>0</td>\n",
       "    </tr>\n",
       "  </tbody>\n",
       "</table>\n",
       "<p>1700 rows × 13 columns</p>\n",
       "</div>"
      ],
      "text/plain": [
       "        match_id   season start_date                                venue  \\\n",
       "126324     65284  2002/03 2003-03-18     St George's Park, Port Elizabeth   \n",
       "126325     65284  2002/03 2003-03-18     St George's Park, Port Elizabeth   \n",
       "126326     65284  2002/03 2003-03-18     St George's Park, Port Elizabeth   \n",
       "126327     65284  2002/03 2003-03-18     St George's Park, Port Elizabeth   \n",
       "126328     65284  2002/03 2003-03-18     St George's Park, Port Elizabeth   \n",
       "...          ...      ...        ...                                  ...   \n",
       "128019     65286  2002/03 2003-03-23  New Wanderers Stadium, Johannesburg   \n",
       "128020     65286  2002/03 2003-03-23  New Wanderers Stadium, Johannesburg   \n",
       "128021     65286  2002/03 2003-03-23  New Wanderers Stadium, Johannesburg   \n",
       "128022     65286  2002/03 2003-03-23  New Wanderers Stadium, Johannesburg   \n",
       "128023     65286  2002/03 2003-03-23  New Wanderers Stadium, Johannesburg   \n",
       "\n",
       "        innings  ball batting_team bowling_team       striker non_striker  \\\n",
       "126324        1   0.1    Australia    Sri Lanka  AC Gilchrist   ML Hayden   \n",
       "126325        1   0.2    Australia    Sri Lanka  AC Gilchrist   ML Hayden   \n",
       "126326        1   0.3    Australia    Sri Lanka  AC Gilchrist   ML Hayden   \n",
       "126327        1   0.4    Australia    Sri Lanka  AC Gilchrist   ML Hayden   \n",
       "126328        1   0.5    Australia    Sri Lanka  AC Gilchrist   ML Hayden   \n",
       "...         ...   ...          ...          ...           ...         ...   \n",
       "128019        2  38.4        India    Australia       A Nehra      Z Khan   \n",
       "128020        2  38.5        India    Australia       A Nehra      Z Khan   \n",
       "128021        2  38.6        India    Australia       A Nehra      Z Khan   \n",
       "128022        2  39.1        India    Australia        Z Khan     A Nehra   \n",
       "128023        2  39.2        India    Australia        Z Khan     A Nehra   \n",
       "\n",
       "            bowler  runs_off_bat  extras  \n",
       "126324  WPUJC Vaas             0       0  \n",
       "126325  WPUJC Vaas             0       0  \n",
       "126326  WPUJC Vaas             0       0  \n",
       "126327  WPUJC Vaas             0       0  \n",
       "126328  WPUJC Vaas             0       1  \n",
       "...            ...           ...     ...  \n",
       "128019       B Lee             0       0  \n",
       "128020       B Lee             4       0  \n",
       "128021       B Lee             4       0  \n",
       "128022  GD McGrath             0       0  \n",
       "128023  GD McGrath             0       0  \n",
       "\n",
       "[1700 rows x 13 columns]"
      ]
     },
     "execution_count": 20,
     "metadata": {},
     "output_type": "execute_result"
    }
   ],
   "source": [
    "wc2003"
   ]
  },
  {
   "cell_type": "code",
   "execution_count": 21,
   "id": "9c28ed49-1f1a-433a-91ff-ab1f05a0fe05",
   "metadata": {},
   "outputs": [],
   "source": [
    "# Group data by season to get some common traits\n",
    "season_summary = df.groupby('season').agg({\n",
    "    'match_id': 'nunique',  # Number of unique matches\n",
    "    'runs_off_bat': 'sum',  # Total runs scored\n",
    "    'extras': 'sum'         # Total extras\n",
    "}).reset_index()"
   ]
  },
  {
   "cell_type": "code",
   "execution_count": 22,
   "id": "8c413aec-ceec-4d8e-9d53-5d524023a581",
   "metadata": {},
   "outputs": [],
   "source": [
    "# Set up a seaborn style for visualizations\n",
    "sns.set(style=\"whitegrid\")"
   ]
  },
  {
   "cell_type": "code",
   "execution_count": 23,
   "id": "5b8c4c50-d8ca-4bec-b5a4-42d08075a83d",
   "metadata": {},
   "outputs": [
    {
     "name": "stderr",
     "output_type": "stream",
     "text": [
      "C:\\Users\\Asus\\AppData\\Local\\Temp\\ipykernel_22488\\1368708053.py:3: FutureWarning: \n",
      "\n",
      "Passing `palette` without assigning `hue` is deprecated and will be removed in v0.14.0. Assign the `x` variable to `hue` and set `legend=False` for the same effect.\n",
      "\n",
      "  sns.barplot(x='season', y='match_id', data=season_summary, palette='viridis',legend = False)\n"
     ]
    },
    {
     "data": {
      "image/png": "[encoded data removed]",
      "text/plain": [
       "<Figure size 1000x600 with 1 Axes>"
      ]
     },
     "metadata": {},
     "output_type": "display_data"
    }
   ],
   "source": [
    "# ### 4.1 Matches Played Per Season\n",
    "plt.figure(figsize=(10,6))\n",
    "sns.barplot(x='season', y='match_id', data=season_summary, palette='viridis',legend = False)\n",
    "plt.title('Number of Matches Played Per Season')\n",
    "plt.xlabel('Season')\n",
    "plt.ylabel('Number of Matches')\n",
    "plt.xticks(rotation=90)\n",
    "plt.show()"
   ]
  },
  {
   "cell_type": "code",
   "execution_count": 24,
   "id": "76c2a67d-c1fc-4393-9fe8-de695b3f278b",
   "metadata": {},
   "outputs": [
    {
     "data": {
      "image/png": "[encoded data removed]",
      "text/plain": [
       "<Figure size 1000x600 with 1 Axes>"
      ]
     },
     "metadata": {},
     "output_type": "display_data"
    }
   ],
   "source": [
    "\n",
    "# ### 4.2 Runs Scored Per Season\n",
    "plt.figure(figsize=(10,6))\n",
    "sns.lineplot(x='season', y='runs_off_bat', data=season_summary, marker='o', color='b')\n",
    "plt.title('Total Runs Scored Per Season')\n",
    "plt.xlabel('Season')\n",
    "plt.ylabel('Total Runs')\n",
    "plt.xticks(rotation=90)\n",
    "plt.show()"
   ]
  },
  {
   "cell_type": "code",
   "execution_count": 25,
   "id": "d29840d0-210f-4298-b805-6462e1a6b3f1",
   "metadata": {},
   "outputs": [
    {
     "data": {
      "image/png": "[encoded data removed]",
      "text/plain": [
       "<Figure size 1000x600 with 1 Axes>"
      ]
     },
     "metadata": {},
     "output_type": "display_data"
    }
   ],
   "source": [
    "# ### 4.3 Extras Per Season\n",
    "plt.figure(figsize=(10,6))\n",
    "sns.lineplot(x='season', y='extras', data=season_summary, marker='o', color='r')\n",
    "plt.title('Total Extras Per Season')\n",
    "plt.xlabel('Season')\n",
    "plt.ylabel('Total Extras')\n",
    "plt.xticks(rotation=90)\n",
    "plt.show()"
   ]
  },
  {
   "cell_type": "code",
   "execution_count": 26,
   "id": "fa8ead63-8c5a-4848-889a-db1f9562b62b",
   "metadata": {},
   "outputs": [
    {
     "name": "stderr",
     "output_type": "stream",
     "text": [
      "C:\\Users\\Asus\\AppData\\Local\\Temp\\ipykernel_22488\\3621913890.py:2: FutureWarning: \n",
      "\n",
      "Passing `palette` without assigning `hue` is deprecated and will be removed in v0.14.0. Assign the `x` variable to `hue` and set `legend=False` for the same effect.\n",
      "\n",
      "  sns.barplot(data=filtered_df, x='batting_team', y='runs_off_bat', palette='viridis')\n"
     ]
    },
    {
     "data": {
      "image/png": "[encoded data removed]",
      "text/plain": [
       "<Figure size 1000x600 with 1 Axes>"
      ]
     },
     "metadata": {},
     "output_type": "display_data"
    }
   ],
   "source": [
    "plt.figure(figsize=(10, 6))\n",
    "sns.barplot(data=filtered_df, x='batting_team', y='runs_off_bat', palette='viridis')\n",
    "plt.title('Total Runs Scored by Each Batting Team')\n",
    "plt.xlabel('Batting Team')\n",
    "plt.ylabel('Total Runs Off Bat')\n",
    "plt.xticks(rotation=45)\n",
    "plt.tight_layout()\n",
    "plt.show()"
   ]
  },
  {
   "cell_type": "code",
   "execution_count": 27,
   "id": "91107b15-c44e-4cd3-a44d-186f198a04ff",
   "metadata": {},
   "outputs": [
    {
     "data": {
      "text/html": [
       "<div>\n",
       "<style scoped>\n",
       "    .dataframe tbody tr th:only-of-type {\n",
       "        vertical-align: middle;\n",
       "    }\n",
       "\n",
       "    .dataframe tbody tr th {\n",
       "        vertical-align: top;\n",
       "    }\n",
       "\n",
       "    .dataframe thead th {\n",
       "        text-align: right;\n",
       "    }\n",
       "</style>\n",
       "<table border=\"1\" class=\"dataframe\">\n",
       "  <thead>\n",
       "    <tr style=\"text-align: right;\">\n",
       "      <th></th>\n",
       "      <th>match_id</th>\n",
       "      <th>season</th>\n",
       "      <th>start_date</th>\n",
       "      <th>venue</th>\n",
       "      <th>innings</th>\n",
       "      <th>ball</th>\n",
       "      <th>batting_team</th>\n",
       "      <th>bowling_team</th>\n",
       "      <th>striker</th>\n",
       "      <th>non_striker</th>\n",
       "      <th>bowler</th>\n",
       "      <th>runs_off_bat</th>\n",
       "      <th>extras</th>\n",
       "    </tr>\n",
       "  </thead>\n",
       "  <tbody>\n",
       "    <tr>\n",
       "      <th>126324</th>\n",
       "      <td>65284</td>\n",
       "      <td>2002/03</td>\n",
       "      <td>2003-03-18</td>\n",
       "      <td>St George's Park, Port Elizabeth</td>\n",
       "      <td>1</td>\n",
       "      <td>0.1</td>\n",
       "      <td>Australia</td>\n",
       "      <td>Sri Lanka</td>\n",
       "      <td>AC Gilchrist</td>\n",
       "      <td>ML Hayden</td>\n",
       "      <td>WPUJC Vaas</td>\n",
       "      <td>0</td>\n",
       "      <td>0</td>\n",
       "    </tr>\n",
       "    <tr>\n",
       "      <th>126325</th>\n",
       "      <td>65284</td>\n",
       "      <td>2002/03</td>\n",
       "      <td>2003-03-18</td>\n",
       "      <td>St George's Park, Port Elizabeth</td>\n",
       "      <td>1</td>\n",
       "      <td>0.2</td>\n",
       "      <td>Australia</td>\n",
       "      <td>Sri Lanka</td>\n",
       "      <td>AC Gilchrist</td>\n",
       "      <td>ML Hayden</td>\n",
       "      <td>WPUJC Vaas</td>\n",
       "      <td>0</td>\n",
       "      <td>0</td>\n",
       "    </tr>\n",
       "    <tr>\n",
       "      <th>126326</th>\n",
       "      <td>65284</td>\n",
       "      <td>2002/03</td>\n",
       "      <td>2003-03-18</td>\n",
       "      <td>St George's Park, Port Elizabeth</td>\n",
       "      <td>1</td>\n",
       "      <td>0.3</td>\n",
       "      <td>Australia</td>\n",
       "      <td>Sri Lanka</td>\n",
       "      <td>AC Gilchrist</td>\n",
       "      <td>ML Hayden</td>\n",
       "      <td>WPUJC Vaas</td>\n",
       "      <td>0</td>\n",
       "      <td>0</td>\n",
       "    </tr>\n",
       "    <tr>\n",
       "      <th>126327</th>\n",
       "      <td>65284</td>\n",
       "      <td>2002/03</td>\n",
       "      <td>2003-03-18</td>\n",
       "      <td>St George's Park, Port Elizabeth</td>\n",
       "      <td>1</td>\n",
       "      <td>0.4</td>\n",
       "      <td>Australia</td>\n",
       "      <td>Sri Lanka</td>\n",
       "      <td>AC Gilchrist</td>\n",
       "      <td>ML Hayden</td>\n",
       "      <td>WPUJC Vaas</td>\n",
       "      <td>0</td>\n",
       "      <td>0</td>\n",
       "    </tr>\n",
       "    <tr>\n",
       "      <th>126328</th>\n",
       "      <td>65284</td>\n",
       "      <td>2002/03</td>\n",
       "      <td>2003-03-18</td>\n",
       "      <td>St George's Park, Port Elizabeth</td>\n",
       "      <td>1</td>\n",
       "      <td>0.5</td>\n",
       "      <td>Australia</td>\n",
       "      <td>Sri Lanka</td>\n",
       "      <td>AC Gilchrist</td>\n",
       "      <td>ML Hayden</td>\n",
       "      <td>WPUJC Vaas</td>\n",
       "      <td>0</td>\n",
       "      <td>1</td>\n",
       "    </tr>\n",
       "    <tr>\n",
       "      <th>...</th>\n",
       "      <td>...</td>\n",
       "      <td>...</td>\n",
       "      <td>...</td>\n",
       "      <td>...</td>\n",
       "      <td>...</td>\n",
       "      <td>...</td>\n",
       "      <td>...</td>\n",
       "      <td>...</td>\n",
       "      <td>...</td>\n",
       "      <td>...</td>\n",
       "      <td>...</td>\n",
       "      <td>...</td>\n",
       "      <td>...</td>\n",
       "    </tr>\n",
       "    <tr>\n",
       "      <th>128019</th>\n",
       "      <td>65286</td>\n",
       "      <td>2002/03</td>\n",
       "      <td>2003-03-23</td>\n",
       "      <td>New Wanderers Stadium, Johannesburg</td>\n",
       "      <td>2</td>\n",
       "      <td>38.4</td>\n",
       "      <td>India</td>\n",
       "      <td>Australia</td>\n",
       "      <td>A Nehra</td>\n",
       "      <td>Z Khan</td>\n",
       "      <td>B Lee</td>\n",
       "      <td>0</td>\n",
       "      <td>0</td>\n",
       "    </tr>\n",
       "    <tr>\n",
       "      <th>128020</th>\n",
       "      <td>65286</td>\n",
       "      <td>2002/03</td>\n",
       "      <td>2003-03-23</td>\n",
       "      <td>New Wanderers Stadium, Johannesburg</td>\n",
       "      <td>2</td>\n",
       "      <td>38.5</td>\n",
       "      <td>India</td>\n",
       "      <td>Australia</td>\n",
       "      <td>A Nehra</td>\n",
       "      <td>Z Khan</td>\n",
       "      <td>B Lee</td>\n",
       "      <td>4</td>\n",
       "      <td>0</td>\n",
       "    </tr>\n",
       "    <tr>\n",
       "      <th>128021</th>\n",
       "      <td>65286</td>\n",
       "      <td>2002/03</td>\n",
       "      <td>2003-03-23</td>\n",
       "      <td>New Wanderers Stadium, Johannesburg</td>\n",
       "      <td>2</td>\n",
       "      <td>38.6</td>\n",
       "      <td>India</td>\n",
       "      <td>Australia</td>\n",
       "      <td>A Nehra</td>\n",
       "      <td>Z Khan</td>\n",
       "      <td>B Lee</td>\n",
       "      <td>4</td>\n",
       "      <td>0</td>\n",
       "    </tr>\n",
       "    <tr>\n",
       "      <th>128022</th>\n",
       "      <td>65286</td>\n",
       "      <td>2002/03</td>\n",
       "      <td>2003-03-23</td>\n",
       "      <td>New Wanderers Stadium, Johannesburg</td>\n",
       "      <td>2</td>\n",
       "      <td>39.1</td>\n",
       "      <td>India</td>\n",
       "      <td>Australia</td>\n",
       "      <td>Z Khan</td>\n",
       "      <td>A Nehra</td>\n",
       "      <td>GD McGrath</td>\n",
       "      <td>0</td>\n",
       "      <td>0</td>\n",
       "    </tr>\n",
       "    <tr>\n",
       "      <th>128023</th>\n",
       "      <td>65286</td>\n",
       "      <td>2002/03</td>\n",
       "      <td>2003-03-23</td>\n",
       "      <td>New Wanderers Stadium, Johannesburg</td>\n",
       "      <td>2</td>\n",
       "      <td>39.2</td>\n",
       "      <td>India</td>\n",
       "      <td>Australia</td>\n",
       "      <td>Z Khan</td>\n",
       "      <td>A Nehra</td>\n",
       "      <td>GD McGrath</td>\n",
       "      <td>0</td>\n",
       "      <td>0</td>\n",
       "    </tr>\n",
       "  </tbody>\n",
       "</table>\n",
       "<p>1700 rows × 13 columns</p>\n",
       "</div>"
      ],
      "text/plain": [
       "        match_id   season start_date                                venue  \\\n",
       "126324     65284  2002/03 2003-03-18     St George's Park, Port Elizabeth   \n",
       "126325     65284  2002/03 2003-03-18     St George's Park, Port Elizabeth   \n",
       "126326     65284  2002/03 2003-03-18     St George's Park, Port Elizabeth   \n",
       "126327     65284  2002/03 2003-03-18     St George's Park, Port Elizabeth   \n",
       "126328     65284  2002/03 2003-03-18     St George's Park, Port Elizabeth   \n",
       "...          ...      ...        ...                                  ...   \n",
       "128019     65286  2002/03 2003-03-23  New Wanderers Stadium, Johannesburg   \n",
       "128020     65286  2002/03 2003-03-23  New Wanderers Stadium, Johannesburg   \n",
       "128021     65286  2002/03 2003-03-23  New Wanderers Stadium, Johannesburg   \n",
       "128022     65286  2002/03 2003-03-23  New Wanderers Stadium, Johannesburg   \n",
       "128023     65286  2002/03 2003-03-23  New Wanderers Stadium, Johannesburg   \n",
       "\n",
       "        innings  ball batting_team bowling_team       striker non_striker  \\\n",
       "126324        1   0.1    Australia    Sri Lanka  AC Gilchrist   ML Hayden   \n",
       "126325        1   0.2    Australia    Sri Lanka  AC Gilchrist   ML Hayden   \n",
       "126326        1   0.3    Australia    Sri Lanka  AC Gilchrist   ML Hayden   \n",
       "126327        1   0.4    Australia    Sri Lanka  AC Gilchrist   ML Hayden   \n",
       "126328        1   0.5    Australia    Sri Lanka  AC Gilchrist   ML Hayden   \n",
       "...         ...   ...          ...          ...           ...         ...   \n",
       "128019        2  38.4        India    Australia       A Nehra      Z Khan   \n",
       "128020        2  38.5        India    Australia       A Nehra      Z Khan   \n",
       "128021        2  38.6        India    Australia       A Nehra      Z Khan   \n",
       "128022        2  39.1        India    Australia        Z Khan     A Nehra   \n",
       "128023        2  39.2        India    Australia        Z Khan     A Nehra   \n",
       "\n",
       "            bowler  runs_off_bat  extras  \n",
       "126324  WPUJC Vaas             0       0  \n",
       "126325  WPUJC Vaas             0       0  \n",
       "126326  WPUJC Vaas             0       0  \n",
       "126327  WPUJC Vaas             0       0  \n",
       "126328  WPUJC Vaas             0       1  \n",
       "...            ...           ...     ...  \n",
       "128019       B Lee             0       0  \n",
       "128020       B Lee             4       0  \n",
       "128021       B Lee             4       0  \n",
       "128022  GD McGrath             0       0  \n",
       "128023  GD McGrath             0       0  \n",
       "\n",
       "[1700 rows x 13 columns]"
      ]
     },
     "execution_count": 27,
     "metadata": {},
     "output_type": "execute_result"
    }
   ],
   "source": [
    "wc2003"
   ]
  },
  {
   "cell_type": "code",
   "execution_count": 28,
   "id": "92b7799d-e78a-4b52-b6c1-ca540e22a6cf",
   "metadata": {},
   "outputs": [
    {
     "name": "stderr",
     "output_type": "stream",
     "text": [
      "C:\\Users\\Asus\\AppData\\Local\\Temp\\ipykernel_22488\\4084699622.py:1: SettingWithCopyWarning: \n",
      "A value is trying to be set on a copy of a slice from a DataFrame\n",
      "\n",
      "See the caveats in the documentation: https://pandas.pydata.org/pandas-docs/stable/user_guide/indexing.html#returning-a-view-versus-a-copy\n",
      "  wc2003['season'].replace('2002/03','2003', inplace=True)\n"
     ]
    }
   ],
   "source": [
    "wc2003['season'].replace('2002/03','2003', inplace=True)"
   ]
  },
  {
   "cell_type": "code",
   "execution_count": 29,
   "id": "5eb915af-a566-42e9-981b-28d42655ed6e",
   "metadata": {},
   "outputs": [
    {
     "data": {
      "text/html": [
       "<div>\n",
       "<style scoped>\n",
       "    .dataframe tbody tr th:only-of-type {\n",
       "        vertical-align: middle;\n",
       "    }\n",
       "\n",
       "    .dataframe tbody tr th {\n",
       "        vertical-align: top;\n",
       "    }\n",
       "\n",
       "    .dataframe thead th {\n",
       "        text-align: right;\n",
       "    }\n",
       "</style>\n",
       "<table border=\"1\" class=\"dataframe\">\n",
       "  <thead>\n",
       "    <tr style=\"text-align: right;\">\n",
       "      <th></th>\n",
       "      <th>match_id</th>\n",
       "      <th>season</th>\n",
       "      <th>start_date</th>\n",
       "      <th>venue</th>\n",
       "      <th>innings</th>\n",
       "      <th>ball</th>\n",
       "      <th>batting_team</th>\n",
       "      <th>bowling_team</th>\n",
       "      <th>striker</th>\n",
       "      <th>non_striker</th>\n",
       "      <th>bowler</th>\n",
       "      <th>runs_off_bat</th>\n",
       "      <th>extras</th>\n",
       "    </tr>\n",
       "  </thead>\n",
       "  <tbody>\n",
       "    <tr>\n",
       "      <th>126324</th>\n",
       "      <td>65284</td>\n",
       "      <td>2003</td>\n",
       "      <td>2003-03-18</td>\n",
       "      <td>St George's Park, Port Elizabeth</td>\n",
       "      <td>1</td>\n",
       "      <td>0.1</td>\n",
       "      <td>Australia</td>\n",
       "      <td>Sri Lanka</td>\n",
       "      <td>AC Gilchrist</td>\n",
       "      <td>ML Hayden</td>\n",
       "      <td>WPUJC Vaas</td>\n",
       "      <td>0</td>\n",
       "      <td>0</td>\n",
       "    </tr>\n",
       "    <tr>\n",
       "      <th>126325</th>\n",
       "      <td>65284</td>\n",
       "      <td>2003</td>\n",
       "      <td>2003-03-18</td>\n",
       "      <td>St George's Park, Port Elizabeth</td>\n",
       "      <td>1</td>\n",
       "      <td>0.2</td>\n",
       "      <td>Australia</td>\n",
       "      <td>Sri Lanka</td>\n",
       "      <td>AC Gilchrist</td>\n",
       "      <td>ML Hayden</td>\n",
       "      <td>WPUJC Vaas</td>\n",
       "      <td>0</td>\n",
       "      <td>0</td>\n",
       "    </tr>\n",
       "    <tr>\n",
       "      <th>126326</th>\n",
       "      <td>65284</td>\n",
       "      <td>2003</td>\n",
       "      <td>2003-03-18</td>\n",
       "      <td>St George's Park, Port Elizabeth</td>\n",
       "      <td>1</td>\n",
       "      <td>0.3</td>\n",
       "      <td>Australia</td>\n",
       "      <td>Sri Lanka</td>\n",
       "      <td>AC Gilchrist</td>\n",
       "      <td>ML Hayden</td>\n",
       "      <td>WPUJC Vaas</td>\n",
       "      <td>0</td>\n",
       "      <td>0</td>\n",
       "    </tr>\n",
       "    <tr>\n",
       "      <th>126327</th>\n",
       "      <td>65284</td>\n",
       "      <td>2003</td>\n",
       "      <td>2003-03-18</td>\n",
       "      <td>St George's Park, Port Elizabeth</td>\n",
       "      <td>1</td>\n",
       "      <td>0.4</td>\n",
       "      <td>Australia</td>\n",
       "      <td>Sri Lanka</td>\n",
       "      <td>AC Gilchrist</td>\n",
       "      <td>ML Hayden</td>\n",
       "      <td>WPUJC Vaas</td>\n",
       "      <td>0</td>\n",
       "      <td>0</td>\n",
       "    </tr>\n",
       "    <tr>\n",
       "      <th>126328</th>\n",
       "      <td>65284</td>\n",
       "      <td>2003</td>\n",
       "      <td>2003-03-18</td>\n",
       "      <td>St George's Park, Port Elizabeth</td>\n",
       "      <td>1</td>\n",
       "      <td>0.5</td>\n",
       "      <td>Australia</td>\n",
       "      <td>Sri Lanka</td>\n",
       "      <td>AC Gilchrist</td>\n",
       "      <td>ML Hayden</td>\n",
       "      <td>WPUJC Vaas</td>\n",
       "      <td>0</td>\n",
       "      <td>1</td>\n",
       "    </tr>\n",
       "    <tr>\n",
       "      <th>...</th>\n",
       "      <td>...</td>\n",
       "      <td>...</td>\n",
       "      <td>...</td>\n",
       "      <td>...</td>\n",
       "      <td>...</td>\n",
       "      <td>...</td>\n",
       "      <td>...</td>\n",
       "      <td>...</td>\n",
       "      <td>...</td>\n",
       "      <td>...</td>\n",
       "      <td>...</td>\n",
       "      <td>...</td>\n",
       "      <td>...</td>\n",
       "    </tr>\n",
       "    <tr>\n",
       "      <th>128019</th>\n",
       "      <td>65286</td>\n",
       "      <td>2003</td>\n",
       "      <td>2003-03-23</td>\n",
       "      <td>New Wanderers Stadium, Johannesburg</td>\n",
       "      <td>2</td>\n",
       "      <td>38.4</td>\n",
       "      <td>India</td>\n",
       "      <td>Australia</td>\n",
       "      <td>A Nehra</td>\n",
       "      <td>Z Khan</td>\n",
       "      <td>B Lee</td>\n",
       "      <td>0</td>\n",
       "      <td>0</td>\n",
       "    </tr>\n",
       "    <tr>\n",
       "      <th>128020</th>\n",
       "      <td>65286</td>\n",
       "      <td>2003</td>\n",
       "      <td>2003-03-23</td>\n",
       "      <td>New Wanderers Stadium, Johannesburg</td>\n",
       "      <td>2</td>\n",
       "      <td>38.5</td>\n",
       "      <td>India</td>\n",
       "      <td>Australia</td>\n",
       "      <td>A Nehra</td>\n",
       "      <td>Z Khan</td>\n",
       "      <td>B Lee</td>\n",
       "      <td>4</td>\n",
       "      <td>0</td>\n",
       "    </tr>\n",
       "    <tr>\n",
       "      <th>128021</th>\n",
       "      <td>65286</td>\n",
       "      <td>2003</td>\n",
       "      <td>2003-03-23</td>\n",
       "      <td>New Wanderers Stadium, Johannesburg</td>\n",
       "      <td>2</td>\n",
       "      <td>38.6</td>\n",
       "      <td>India</td>\n",
       "      <td>Australia</td>\n",
       "      <td>A Nehra</td>\n",
       "      <td>Z Khan</td>\n",
       "      <td>B Lee</td>\n",
       "      <td>4</td>\n",
       "      <td>0</td>\n",
       "    </tr>\n",
       "    <tr>\n",
       "      <th>128022</th>\n",
       "      <td>65286</td>\n",
       "      <td>2003</td>\n",
       "      <td>2003-03-23</td>\n",
       "      <td>New Wanderers Stadium, Johannesburg</td>\n",
       "      <td>2</td>\n",
       "      <td>39.1</td>\n",
       "      <td>India</td>\n",
       "      <td>Australia</td>\n",
       "      <td>Z Khan</td>\n",
       "      <td>A Nehra</td>\n",
       "      <td>GD McGrath</td>\n",
       "      <td>0</td>\n",
       "      <td>0</td>\n",
       "    </tr>\n",
       "    <tr>\n",
       "      <th>128023</th>\n",
       "      <td>65286</td>\n",
       "      <td>2003</td>\n",
       "      <td>2003-03-23</td>\n",
       "      <td>New Wanderers Stadium, Johannesburg</td>\n",
       "      <td>2</td>\n",
       "      <td>39.2</td>\n",
       "      <td>India</td>\n",
       "      <td>Australia</td>\n",
       "      <td>Z Khan</td>\n",
       "      <td>A Nehra</td>\n",
       "      <td>GD McGrath</td>\n",
       "      <td>0</td>\n",
       "      <td>0</td>\n",
       "    </tr>\n",
       "  </tbody>\n",
       "</table>\n",
       "<p>1700 rows × 13 columns</p>\n",
       "</div>"
      ],
      "text/plain": [
       "        match_id season start_date                                venue  \\\n",
       "126324     65284   2003 2003-03-18     St George's Park, Port Elizabeth   \n",
       "126325     65284   2003 2003-03-18     St George's Park, Port Elizabeth   \n",
       "126326     65284   2003 2003-03-18     St George's Park, Port Elizabeth   \n",
       "126327     65284   2003 2003-03-18     St George's Park, Port Elizabeth   \n",
       "126328     65284   2003 2003-03-18     St George's Park, Port Elizabeth   \n",
       "...          ...    ...        ...                                  ...   \n",
       "128019     65286   2003 2003-03-23  New Wanderers Stadium, Johannesburg   \n",
       "128020     65286   2003 2003-03-23  New Wanderers Stadium, Johannesburg   \n",
       "128021     65286   2003 2003-03-23  New Wanderers Stadium, Johannesburg   \n",
       "128022     65286   2003 2003-03-23  New Wanderers Stadium, Johannesburg   \n",
       "128023     65286   2003 2003-03-23  New Wanderers Stadium, Johannesburg   \n",
       "\n",
       "        innings  ball batting_team bowling_team       striker non_striker  \\\n",
       "126324        1   0.1    Australia    Sri Lanka  AC Gilchrist   ML Hayden   \n",
       "126325        1   0.2    Australia    Sri Lanka  AC Gilchrist   ML Hayden   \n",
       "126326        1   0.3    Australia    Sri Lanka  AC Gilchrist   ML Hayden   \n",
       "126327        1   0.4    Australia    Sri Lanka  AC Gilchrist   ML Hayden   \n",
       "126328        1   0.5    Australia    Sri Lanka  AC Gilchrist   ML Hayden   \n",
       "...         ...   ...          ...          ...           ...         ...   \n",
       "128019        2  38.4        India    Australia       A Nehra      Z Khan   \n",
       "128020        2  38.5        India    Australia       A Nehra      Z Khan   \n",
       "128021        2  38.6        India    Australia       A Nehra      Z Khan   \n",
       "128022        2  39.1        India    Australia        Z Khan     A Nehra   \n",
       "128023        2  39.2        India    Australia        Z Khan     A Nehra   \n",
       "\n",
       "            bowler  runs_off_bat  extras  \n",
       "126324  WPUJC Vaas             0       0  \n",
       "126325  WPUJC Vaas             0       0  \n",
       "126326  WPUJC Vaas             0       0  \n",
       "126327  WPUJC Vaas             0       0  \n",
       "126328  WPUJC Vaas             0       1  \n",
       "...            ...           ...     ...  \n",
       "128019       B Lee             0       0  \n",
       "128020       B Lee             4       0  \n",
       "128021       B Lee             4       0  \n",
       "128022  GD McGrath             0       0  \n",
       "128023  GD McGrath             0       0  \n",
       "\n",
       "[1700 rows x 13 columns]"
      ]
     },
     "execution_count": 29,
     "metadata": {},
     "output_type": "execute_result"
    }
   ],
   "source": [
    "wc2003"
   ]
  },
  {
   "cell_type": "code",
   "execution_count": 30,
   "id": "d782d474-9e94-4db6-bb10-5bbf412bf4fc",
   "metadata": {},
   "outputs": [
    {
     "data": {
      "text/html": [
       "<div>\n",
       "<style scoped>\n",
       "    .dataframe tbody tr th:only-of-type {\n",
       "        vertical-align: middle;\n",
       "    }\n",
       "\n",
       "    .dataframe tbody tr th {\n",
       "        vertical-align: top;\n",
       "    }\n",
       "\n",
       "    .dataframe thead th {\n",
       "        text-align: right;\n",
       "    }\n",
       "</style>\n",
       "<table border=\"1\" class=\"dataframe\">\n",
       "  <thead>\n",
       "    <tr style=\"text-align: right;\">\n",
       "      <th></th>\n",
       "      <th>match_id</th>\n",
       "      <th>innings</th>\n",
       "      <th>ball</th>\n",
       "      <th>runs_off_bat</th>\n",
       "      <th>extras</th>\n",
       "    </tr>\n",
       "  </thead>\n",
       "  <tbody>\n",
       "    <tr>\n",
       "      <th>match_id</th>\n",
       "      <td>1.000000</td>\n",
       "      <td>0.002872</td>\n",
       "      <td>0.001478</td>\n",
       "      <td>0.113995</td>\n",
       "      <td>0.071852</td>\n",
       "    </tr>\n",
       "    <tr>\n",
       "      <th>innings</th>\n",
       "      <td>0.002872</td>\n",
       "      <td>1.000000</td>\n",
       "      <td>-0.147811</td>\n",
       "      <td>-0.096076</td>\n",
       "      <td>0.037578</td>\n",
       "    </tr>\n",
       "    <tr>\n",
       "      <th>ball</th>\n",
       "      <td>0.001478</td>\n",
       "      <td>-0.147811</td>\n",
       "      <td>1.000000</td>\n",
       "      <td>0.109234</td>\n",
       "      <td>-0.006854</td>\n",
       "    </tr>\n",
       "    <tr>\n",
       "      <th>runs_off_bat</th>\n",
       "      <td>0.113995</td>\n",
       "      <td>-0.096076</td>\n",
       "      <td>0.109234</td>\n",
       "      <td>1.000000</td>\n",
       "      <td>-0.091215</td>\n",
       "    </tr>\n",
       "    <tr>\n",
       "      <th>extras</th>\n",
       "      <td>0.071852</td>\n",
       "      <td>0.037578</td>\n",
       "      <td>-0.006854</td>\n",
       "      <td>-0.091215</td>\n",
       "      <td>1.000000</td>\n",
       "    </tr>\n",
       "  </tbody>\n",
       "</table>\n",
       "</div>"
      ],
      "text/plain": [
       "              match_id   innings      ball  runs_off_bat    extras\n",
       "match_id      1.000000  0.002872  0.001478      0.113995  0.071852\n",
       "innings       0.002872  1.000000 -0.147811     -0.096076  0.037578\n",
       "ball          0.001478 -0.147811  1.000000      0.109234 -0.006854\n",
       "runs_off_bat  0.113995 -0.096076  0.109234      1.000000 -0.091215\n",
       "extras        0.071852  0.037578 -0.006854     -0.091215  1.000000"
      ]
     },
     "execution_count": 30,
     "metadata": {},
     "output_type": "execute_result"
    }
   ],
   "source": [
    "wc2003.select_dtypes(include=np.number).corr()"
   ]
  },
  {
   "cell_type": "code",
   "execution_count": 31,
   "id": "51f7cb14-b181-488c-bfdf-4242ce499d6f",
   "metadata": {},
   "outputs": [
    {
     "data": {
      "text/plain": [
       "0.7370588235294118"
      ]
     },
     "execution_count": 31,
     "metadata": {},
     "output_type": "execute_result"
    }
   ],
   "source": [
    "wc2003['runs_off_bat'].mean()"
   ]
  },
  {
   "cell_type": "code",
   "execution_count": 32,
   "id": "3c964c39-8292-40bf-8f59-dfba92bba8c7",
   "metadata": {},
   "outputs": [
    {
     "data": {
      "text/plain": [
       "<Axes: xlabel='runs_off_bat', ylabel='Count'>"
      ]
     },
     "execution_count": 32,
     "metadata": {},
     "output_type": "execute_result"
    },
    {
     "data": {
      "image/png": "[encoded data removed]",
      "text/plain": [
       "<Figure size 640x480 with 1 Axes>"
      ]
     },
     "metadata": {},
     "output_type": "display_data"
    }
   ],
   "source": [
    "sns.histplot(wc2003['runs_off_bat'])"
   ]
  },
  {
   "cell_type": "code",
   "execution_count": 33,
   "id": "3404d5f0-bc16-44bc-b1c4-ab66ba1d2ce6",
   "metadata": {},
   "outputs": [
    {
     "data": {
      "text/plain": [
       "<Axes: xlabel='extras', ylabel='Count'>"
      ]
     },
     "execution_count": 33,
     "metadata": {},
     "output_type": "execute_result"
    },
    {
     "data": {
      "image/png": "[encoded data removed]",
      "text/plain": [
       "<Figure size 640x480 with 1 Axes>"
      ]
     },
     "metadata": {},
     "output_type": "display_data"
    }
   ],
   "source": [
    "sns.histplot(wc2003['extras'])"
   ]
  },
  {
   "cell_type": "code",
   "execution_count": 34,
   "id": "24d585e3-1f7d-4e49-972d-3723baa41f1d",
   "metadata": {},
   "outputs": [
    {
     "data": {
      "text/plain": [
       "<Axes: xlabel='runs_off_bat', ylabel='Count'>"
      ]
     },
     "execution_count": 34,
     "metadata": {},
     "output_type": "execute_result"
    },
    {
     "data": {
      "image/png": "[encoded data removed]",
      "text/plain": [
       "<Figure size 640x480 with 1 Axes>"
      ]
     },
     "metadata": {},
     "output_type": "display_data"
    }
   ],
   "source": [
    "sns.histplot(wc2007['runs_off_bat'])"
   ]
  },
  {
   "cell_type": "code",
   "execution_count": 35,
   "id": "bae60046-87e3-4bec-b8d6-4da31cb14b14",
   "metadata": {},
   "outputs": [
    {
     "data": {
      "text/plain": [
       "<Axes: xlabel='extras', ylabel='Count'>"
      ]
     },
     "execution_count": 35,
     "metadata": {},
     "output_type": "execute_result"
    },
    {
     "data": {
      "image/png": "[encoded data removed]",
      "text/plain": [
       "<Figure size 640x480 with 1 Axes>"
      ]
     },
     "metadata": {},
     "output_type": "display_data"
    }
   ],
   "source": [
    "sns.histplot(wc2007['extras'])"
   ]
  },
  {
   "cell_type": "code",
   "execution_count": 36,
   "id": "c9aa06f0-59ab-4cdf-9aaa-1b46d0ecbc46",
   "metadata": {},
   "outputs": [
    {
     "data": {
      "text/plain": [
       "<Axes: xlabel='runs_off_bat', ylabel='Count'>"
      ]
     },
     "execution_count": 36,
     "metadata": {},
     "output_type": "execute_result"
    },
    {
     "data": {
      "image/png": "[encoded data removed]",
      "text/plain": [
       "<Figure size 640x480 with 1 Axes>"
      ]
     },
     "metadata": {},
     "output_type": "display_data"
    }
   ],
   "source": [
    "sns.histplot(wc2011['runs_off_bat'])"
   ]
  },
  {
   "cell_type": "code",
   "execution_count": 37,
   "id": "65cc1a19-a671-484a-9279-9ef1dd63d1e7",
   "metadata": {},
   "outputs": [
    {
     "data": {
      "text/plain": [
       "<Axes: xlabel='extras', ylabel='Count'>"
      ]
     },
     "execution_count": 37,
     "metadata": {},
     "output_type": "execute_result"
    },
    {
     "data": {
      "image/png": "[encoded data removed]",
      "text/plain": [
       "<Figure size 640x480 with 1 Axes>"
      ]
     },
     "metadata": {},
     "output_type": "display_data"
    }
   ],
   "source": [
    "sns.histplot(wc2011['extras'])"
   ]
  },
  {
   "cell_type": "code",
   "execution_count": 38,
   "id": "40d9eeb7-a470-453b-a885-7c673f6e065e",
   "metadata": {},
   "outputs": [
    {
     "data": {
      "text/plain": [
       "<Axes: xlabel='runs_off_bat', ylabel='Count'>"
      ]
     },
     "execution_count": 38,
     "metadata": {},
     "output_type": "execute_result"
    },
    {
     "data": {
      "image/png": "[encoded data removed]",
      "text/plain": [
       "<Figure size 640x480 with 1 Axes>"
      ]
     },
     "metadata": {},
     "output_type": "display_data"
    }
   ],
   "source": [
    "sns.histplot(wc2015['runs_off_bat'])"
   ]
  },
  {
   "cell_type": "code",
   "execution_count": 39,
   "id": "cefc020c-c9f8-424f-8505-d15ae1731ad9",
   "metadata": {},
   "outputs": [
    {
     "data": {
      "text/plain": [
       "<Axes: xlabel='extras', ylabel='Count'>"
      ]
     },
     "execution_count": 39,
     "metadata": {},
     "output_type": "execute_result"
    },
    {
     "data": {
      "image/png": "[encoded data removed]",
      "text/plain": [
       "<Figure size 640x480 with 1 Axes>"
      ]
     },
     "metadata": {},
     "output_type": "display_data"
    }
   ],
   "source": [
    "sns.histplot(wc2015['extras'])"
   ]
  },
  {
   "cell_type": "code",
   "execution_count": 40,
   "id": "b4cd2fed-c3fc-4ce0-b8c9-cbbd1badf2e7",
   "metadata": {},
   "outputs": [
    {
     "data": {
      "text/plain": [
       "<Axes: xlabel='runs_off_bat', ylabel='Count'>"
      ]
     },
     "execution_count": 40,
     "metadata": {},
     "output_type": "execute_result"
    },
    {
     "data": {
      "image/png": "[encoded data removed]",
      "text/plain": [
       "<Figure size 640x480 with 1 Axes>"
      ]
     },
     "metadata": {},
     "output_type": "display_data"
    }
   ],
   "source": [
    "sns.histplot(wc2019['runs_off_bat'])"
   ]
  },
  {
   "cell_type": "code",
   "execution_count": 41,
   "id": "def8280e-51b1-4a73-a4de-29f494086a5a",
   "metadata": {},
   "outputs": [
    {
     "data": {
      "text/plain": [
       "<Axes: xlabel='extras', ylabel='Count'>"
      ]
     },
     "execution_count": 41,
     "metadata": {},
     "output_type": "execute_result"
    },
    {
     "data": {
      "image/png": "[encoded data removed]",
      "text/plain": [
       "<Figure size 640x480 with 1 Axes>"
      ]
     },
     "metadata": {},
     "output_type": "display_data"
    }
   ],
   "source": [
    "sns.histplot(wc2019['extras'])"
   ]
  },
  {
   "cell_type": "code",
   "execution_count": 42,
   "id": "610fd3c5-01e9-4492-bc31-4e2ee1a03841",
   "metadata": {},
   "outputs": [
    {
     "data": {
      "text/plain": [
       "<Axes: xlabel='runs_off_bat', ylabel='Count'>"
      ]
     },
     "execution_count": 42,
     "metadata": {},
     "output_type": "execute_result"
    },
    {
     "data": {
      "image/png": "[encoded data removed]",
      "text/plain": [
       "<Figure size 640x480 with 1 Axes>"
      ]
     },
     "metadata": {},
     "output_type": "display_data"
    }
   ],
   "source": [
    "sns.histplot(wc2023['runs_off_bat'])"
   ]
  },
  {
   "cell_type": "code",
   "execution_count": 43,
   "id": "5b878958-d94c-48a4-9355-40fab9d5f282",
   "metadata": {},
   "outputs": [
    {
     "data": {
      "text/plain": [
       "<Axes: xlabel='extras', ylabel='Count'>"
      ]
     },
     "execution_count": 43,
     "metadata": {},
     "output_type": "execute_result"
    },
    {
     "data": {
      "image/png": "[encoded data removed]",
      "text/plain": [
       "<Figure size 640x480 with 1 Axes>"
      ]
     },
     "metadata": {},
     "output_type": "display_data"
    }
   ],
   "source": [
    "sns.histplot(wc2023['extras'])"
   ]
  },
  {
   "cell_type": "code",
   "execution_count": 45,
   "id": "9956caaf-759e-425f-a024-91b8d83fe80d",
   "metadata": {},
   "outputs": [
    {
     "data": {
      "text/plain": [
       "<pandas.core.groupby.generic.DataFrameGroupBy object at 0x0000027F2DF46D90>"
      ]
     },
     "execution_count": 45,
     "metadata": {},
     "output_type": "execute_result"
    }
   ],
   "source": [
    "filtered_df.groupby(filtered_df['bowler'])"
   ]
  }
 ],
 "metadata": {
  "kernelspec": {
   "display_name": "Python 3 (ipykernel)",
   "language": "python",
   "name": "python3"
  },
  "language_info": {
   "codemirror_mode": {
    "name": "ipython",
    "version": 3
   },
   "file_extension": ".py",
   "mimetype": "text/x-python",
   "name": "python",
   "nbconvert_exporter": "python",
   "pygments_lexer": "ipython3",
   "version": "3.11.7"
  }
 },
 "nbformat": 4,
 "nbformat_minor": 5
}
